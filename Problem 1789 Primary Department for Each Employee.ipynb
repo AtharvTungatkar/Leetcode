{
 "cells": [
  {
   "cell_type": "markdown",
   "id": "11a7f30c",
   "metadata": {},
   "source": [
    "Problem 1789 Primary Department for Each Employee"
   ]
  },
  {
   "cell_type": "markdown",
   "id": "fa87abd8",
   "metadata": {},
   "source": [
    "SQL Schema\n",
    "Pandas Schema\n",
    "Table: Employee\n",
    "\n",
    "+---------------+---------+\n",
    "| Column Name   |  Type   |\n",
    "+---------------+---------+\n",
    "| employee_id   | int     |\n",
    "| department_id | int     |\n",
    "| primary_flag  | varchar |\n",
    "+---------------+---------+\n",
    "(employee_id, department_id) is the primary key (combination of columns with unique values) for this table.\n",
    "employee_id is the id of the employee.\n",
    "department_id is the id of the department to which the employee belongs.\n",
    "primary_flag is an ENUM (category) of type ('Y', 'N'). If the flag is 'Y', the department is the primary department for the employee. If the flag is 'N', the department is not the primary.\n",
    " \n",
    "\n",
    "Employees can belong to multiple departments. When the employee joins other departments, they need to decide which department is their primary department. Note that when an employee belongs to only one department, their primary column is 'N'.\n",
    "\n",
    "Write a solution to report all the employees with their primary department. For employees who belong to one department, report their only department.\n",
    "\n",
    "Return the result table in any order.\n",
    "\n",
    "The result format is in the following example.\n",
    "\n",
    " \n",
    "\n",
    "Example 1:\n",
    "\n",
    "Input: \n",
    "Employee table:\n",
    "+-------------+---------------+--------------+\n",
    "| employee_id | department_id | primary_flag |\n",
    "+-------------+---------------+--------------+\n",
    "| 1           | 1             | N            |\n",
    "| 2           | 1             | Y            |\n",
    "| 2           | 2             | N            |\n",
    "| 3           | 3             | N            |\n",
    "| 4           | 2             | N            |\n",
    "| 4           | 3             | Y            |\n",
    "| 4           | 4             | N            |\n",
    "+-------------+---------------+--------------+\n",
    "Output: \n",
    "+-------------+---------------+\n",
    "| employee_id | department_id |\n",
    "+-------------+---------------+\n",
    "| 1           | 1             |\n",
    "| 2           | 1             |\n",
    "| 3           | 3             |\n",
    "| 4           | 3             |\n",
    "+-------------+---------------+\n",
    "Explanation: \n",
    "- The Primary department for employee 1 is 1.\n",
    "- The Primary department for employee 2 is 1.\n",
    "- The Primary department for employee 3 is 3.\n",
    "- The Primary department for employee 4 is 3."
   ]
  },
  {
   "cell_type": "markdown",
   "id": "d2ebe2b3",
   "metadata": {},
   "source": [
    "Answer:"
   ]
  },
  {
   "cell_type": "markdown",
   "id": "c95b56dc",
   "metadata": {},
   "source": [
    "The problem requires a solution such that if the employee id has only one entry then we assign the department as primary department even though the primary column says No. And then based on the Yes of primary column we add other employees.\n",
    "SO first we filter employee ids which appear only once in the dataframe. Then we filter out employee id's which have \"Yes\" in the column of primary department.\n",
    "Then we concatenate both of the dataframes and filter the columns according to the desired output."
   ]
  },
  {
   "cell_type": "code",
   "execution_count": 1,
   "id": "a6893130",
   "metadata": {},
   "outputs": [],
   "source": [
    "import pandas as pd\n",
    "\n",
    "def find_primary_department(employee: pd.DataFrame) -> pd.DataFrame:\n",
    "    pfy=employee[employee['primary_flag']=='Y'][['employee_id','department_id']]\n",
    "    df=employee.groupby(by='employee_id',as_index=False).agg('count')\n",
    "    df=df[df['department_id']==1]\n",
    "    merged=df.merge(employee,on='employee_id', how='left').rename(columns={'department_id_y':'department_id'})[['employee_id','department_id']]\n",
    "    return pd.concat([pfy,merged])"
   ]
  },
  {
   "cell_type": "code",
   "execution_count": 2,
   "id": "8cc0dd1b",
   "metadata": {},
   "outputs": [
    {
     "name": "stdout",
     "output_type": "stream",
     "text": [
      "   employee_id  department_id\n",
      "1            2              1\n",
      "5            4              3\n",
      "0            1              1\n",
      "1            3              3\n"
     ]
    }
   ],
   "source": [
    "#Test case\n",
    "\n",
    "employee=pd.DataFrame({'employee_id':[1,2,2,3,4,4,4],'department_id':[1,1,2,3,2,3,4],'primary_flag':['N','Y','N','N','N','Y','N']})\n",
    "print(find_primary_department(employee))"
   ]
  }
 ],
 "metadata": {
  "kernelspec": {
   "display_name": "base",
   "language": "python",
   "name": "python3"
  },
  "language_info": {
   "codemirror_mode": {
    "name": "ipython",
    "version": 3
   },
   "file_extension": ".py",
   "mimetype": "text/x-python",
   "name": "python",
   "nbconvert_exporter": "python",
   "pygments_lexer": "ipython3",
   "version": "3.12.4"
  }
 },
 "nbformat": 4,
 "nbformat_minor": 5
}
