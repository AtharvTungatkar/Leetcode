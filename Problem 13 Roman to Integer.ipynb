{
 "cells": [
  {
   "cell_type": "markdown",
   "id": "ee3665eb",
   "metadata": {},
   "source": [
    "Leetcode Problem 13 \n",
    "Roman to Integer"
   ]
  },
  {
   "cell_type": "markdown",
   "id": "8ac8576b",
   "metadata": {},
   "source": [
    "Question:\n",
    "\n",
    "Roman numerals are represented by seven different symbols: I, V, X, L, C, D and M.\n",
    "\n",
    "Symbol       Value\n",
    "I             1\n",
    "V             5\n",
    "X             10\n",
    "L             50\n",
    "C             100\n",
    "D             500\n",
    "M             1000\n",
    "For example, 2 is written as II in Roman numeral, just two ones added together. 12 is written as XII, which is simply X + II. The number 27 is written as XXVII, which is XX + V + II.\n",
    "\n",
    "Roman numerals are usually written largest to smallest from left to right. However, the numeral for four is not IIII. Instead, the number four is written as IV. Because the one is before the five we subtract it making four. The same principle applies to the number nine, which is written as IX. There are six instances where subtraction is used:\n",
    "\n",
    "I can be placed before V (5) and X (10) to make 4 and 9. \n",
    "X can be placed before L (50) and C (100) to make 40 and 90. \n",
    "C can be placed before D (500) and M (1000) to make 400 and 900.\n",
    "Given a roman numeral, convert it to an integer.\n",
    "\n",
    " \n",
    "\n",
    "Example 1:\n",
    "\n",
    "Input: s = \"III\"\n",
    "Output: 3\n",
    "Explanation: III = 3.\n",
    "Example 2:\n",
    "\n",
    "Input: s = \"LVIII\"\n",
    "Output: 58\n",
    "Explanation: L = 50, V= 5, III = 3.\n",
    "Example 3:\n",
    "\n",
    "Input: s = \"MCMXCIV\"\n",
    "Output: 1994\n",
    "Explanation: M = 1000, CM = 900, XC = 90 and IV = 4.\n",
    " \n",
    "\n",
    "Constraints:\n",
    "\n",
    "1 <= s.length <= 15\n",
    "s contains only the characters ('I', 'V', 'X', 'L', 'C', 'D', 'M').\n",
    "It is guaranteed that s is a valid roman numeral in the range [1, 3999]."
   ]
  },
  {
   "cell_type": "markdown",
   "id": "c6ec90d3",
   "metadata": {},
   "source": [
    "Answer\n",
    "\n",
    "To solve this question we can define a dictionary to store values of each roman character and then add the values using mapping from the dictionary. But this approach have got one problem which is that a few romans like IV that is 4 is not obtained by adding 5 and 1, instead we have to subtract 1 from 5. Hence the approach needs to be modified to account for such characters. It can be solved if we check the next character in loop and if it is greater than the character at place we subtract it from the next character and add the value to the sum, then we have to skip the next character and move ahead with the second next to continue to add to the sum until the value of i of loop is less than the length of string."
   ]
  },
  {
   "cell_type": "code",
   "execution_count": null,
   "id": "a08db414",
   "metadata": {},
   "outputs": [],
   "source": [
    "def romantoint(s:str)-> int:\n",
    "    values={\n",
    "        'I': 1,\n",
    "        'V': 5,\n",
    "        'X': 10,\n",
    "        'L': 50,\n",
    "        'C': 100,\n",
    "        'D': 500,\n",
    "        'M': 1000\n",
    "    }\n",
    "    sum=0 # initiate sum to zero\n",
    "    i=0 # set the starting point of iteration to zero\n",
    "\n",
    "    # Iterate through the string\n",
    "    while i<len(s):\n",
    "        if i+1<len(s) and values[s[i]]<values[s[i+1]]:        # check if the next character is greater and if it isthe subtract current character from the next character and add it to sum\n",
    "            sum+=values[s[i+1]]-values[s[i]]\n",
    "            i+=2                                             # skip the next character as it has been used in calculation\n",
    "        else:\n",
    "            sum+=values[s[i]]\n",
    "            i+=1\n",
    "    return sum\n"
   ]
  },
  {
   "cell_type": "code",
   "execution_count": 4,
   "id": "2c255d7c",
   "metadata": {},
   "outputs": [
    {
     "name": "stdout",
     "output_type": "stream",
     "text": [
      "2\n",
      "24\n",
      "1994\n",
      "42\n",
      "3999\n"
     ]
    }
   ],
   "source": [
    "# Lets check 5 test cases\n",
    "l=[\"II\",\"XXIV\",\"MCMXCIV\",\"XLII\",\"MMMCMXCIX\"]\n",
    "\n",
    "for i in l:\n",
    "    print(romantoint(i))"
   ]
  }
 ],
 "metadata": {
  "kernelspec": {
   "display_name": "base",
   "language": "python",
   "name": "python3"
  },
  "language_info": {
   "codemirror_mode": {
    "name": "ipython",
    "version": 3
   },
   "file_extension": ".py",
   "mimetype": "text/x-python",
   "name": "python",
   "nbconvert_exporter": "python",
   "pygments_lexer": "ipython3",
   "version": "3.12.4"
  }
 },
 "nbformat": 4,
 "nbformat_minor": 5
}
