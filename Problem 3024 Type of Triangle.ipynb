{
 "cells": [
  {
   "cell_type": "markdown",
   "id": "b2a31934",
   "metadata": {},
   "source": [
    "Problem 3024 Type of Triangle"
   ]
  },
  {
   "cell_type": "markdown",
   "id": "d6a36a9e",
   "metadata": {},
   "source": [
    "You are given a 0-indexed integer array nums of size 3 which can form the sides of a triangle.\n",
    "\n",
    "A triangle is called equilateral if it has all sides of equal length.\n",
    "A triangle is called isosceles if it has exactly two sides of equal length.\n",
    "A triangle is called scalene if all its sides are of different lengths.\n",
    "Return a string representing the type of triangle that can be formed or \"none\" if it cannot form a triangle.\n",
    "\n",
    " \n",
    "\n",
    "Example 1:\n",
    "\n",
    "Input: nums = [3,3,3]\n",
    "Output: \"equilateral\"\n",
    "Explanation: Since all the sides are of equal length, therefore, it will form an equilateral triangle.\n",
    "Example 2:\n",
    "\n",
    "Input: nums = [3,4,5]\n",
    "Output: \"scalene\"\n",
    "Explanation: \n",
    "nums[0] + nums[1] = 3 + 4 = 7, which is greater than nums[2] = 5.\n",
    "nums[0] + nums[2] = 3 + 5 = 8, which is greater than nums[1] = 4.\n",
    "nums[1] + nums[2] = 4 + 5 = 9, which is greater than nums[0] = 3. \n",
    "Since the sum of the two sides is greater than the third side for all three cases, therefore, it can form a triangle.\n",
    "As all the sides are of different lengths, it will form a scalene triangle.\n",
    " \n",
    "\n",
    "Constraints:\n",
    "\n",
    "nums.length == 3\n",
    "1 <= nums[i] <= 100"
   ]
  },
  {
   "cell_type": "markdown",
   "id": "9520ca75",
   "metadata": {},
   "source": [
    "ANSWER"
   ]
  },
  {
   "cell_type": "markdown",
   "id": "4491efc7",
   "metadata": {},
   "source": [
    "The problem is simple and can be solved using if, elif and sle statements in the for loop.\n",
    "But the hidden trick is that we need to check the property of triangle which is that the sum of any two sides of triangle is greater than the third side.\n",
    "\n",
    "Hence we use the first if statement to check this property and then other if and elif statements to check for the type of triangle.\n",
    "If the property isn't statisfied then we return \"none\"."
   ]
  },
  {
   "cell_type": "code",
   "execution_count": 2,
   "id": "4d571a26",
   "metadata": {},
   "outputs": [],
   "source": [
    "def triangleType(nums: list[int]) -> str:\n",
    "        for i in range(len(nums)):\n",
    "            if nums[i]+nums[i+1]>nums[i+2] and nums[i+1]+nums[i+2]>nums[i] and nums[i]+nums[i+2]>nums[i+1]:\n",
    "                if nums[i]==nums[i+1] and nums[i]==nums[i+2]:\n",
    "                    return \"equilateral\"\n",
    "                elif nums[i]==nums[i+1] or nums[i]==nums[i+2] or nums[i+1]==nums[i+2]:\n",
    "                    return \"isosceles\"\n",
    "                else:\n",
    "                    return \"scalene\"\n",
    "            else:\n",
    "                return \"none\""
   ]
  },
  {
   "cell_type": "code",
   "execution_count": 5,
   "id": "746a6b7c",
   "metadata": {},
   "outputs": [
    {
     "name": "stdout",
     "output_type": "stream",
     "text": [
      "Expected: equilateral, got: equilateral\n",
      "Expected: scalene, got: scalene\n",
      "Expected: none, got: none\n",
      "Expected: isosceles, got: isosceles\n"
     ]
    }
   ],
   "source": [
    "# Test cases\n",
    "\n",
    "a=[3,3,3]\n",
    "b=[3,4,5]\n",
    "c=[8,4,2]\n",
    "d=[3,2,3]\n",
    "\n",
    "print(\"Expected: equilateral, got:\", triangleType(a))\n",
    "print(\"Expected: scalene, got:\", triangleType(b))\n",
    "print(\"Expected: none, got:\", triangleType(c))\n",
    "print(\"Expected: isosceles, got:\", triangleType(d))"
   ]
  }
 ],
 "metadata": {
  "kernelspec": {
   "display_name": "base",
   "language": "python",
   "name": "python3"
  },
  "language_info": {
   "codemirror_mode": {
    "name": "ipython",
    "version": 3
   },
   "file_extension": ".py",
   "mimetype": "text/x-python",
   "name": "python",
   "nbconvert_exporter": "python",
   "pygments_lexer": "ipython3",
   "version": "3.12.4"
  }
 },
 "nbformat": 4,
 "nbformat_minor": 5
}
