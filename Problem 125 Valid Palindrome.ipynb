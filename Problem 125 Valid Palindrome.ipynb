{
 "cells": [
  {
   "cell_type": "markdown",
   "id": "a761eead",
   "metadata": {},
   "source": [
    "Problem 125 Valid Palindrome"
   ]
  },
  {
   "cell_type": "markdown",
   "id": "85a0117e",
   "metadata": {},
   "source": [
    "A phrase is a palindrome if, after converting all uppercase letters into lowercase letters and removing all non-alphanumeric characters, it reads the same forward and backward. Alphanumeric characters include letters and numbers.\n",
    "\n",
    "Given a string s, return true if it is a palindrome, or false otherwise.\n",
    "\n",
    " \n",
    "\n",
    "Example 1:\n",
    "\n",
    "Input: s = \"A man, a plan, a canal: Panama\"\n",
    "Output: true\n",
    "Explanation: \"amanaplanacanalpanama\" is a palindrome.\n",
    "Example 2:\n",
    "\n",
    "Input: s = \"race a car\"\n",
    "Output: false\n",
    "Explanation: \"raceacar\" is not a palindrome.\n",
    "Example 3:\n",
    "\n",
    "Input: s = \" \"\n",
    "Output: true\n",
    "Explanation: s is an empty string \"\" after removing non-alphanumeric characters.\n",
    "Since an empty string reads the same forward and backward, it is a palindrome.\n",
    " \n",
    "\n",
    "Constraints:\n",
    "\n",
    "1 <= s.length <= 2 * 105\n",
    "s consists only of printable ASCII characters."
   ]
  },
  {
   "cell_type": "markdown",
   "id": "16b84d61",
   "metadata": {},
   "source": [
    "Answer"
   ]
  },
  {
   "cell_type": "markdown",
   "id": "9a9128cc",
   "metadata": {},
   "source": [
    "This problem can be solved in multiple ways but I chose to solve it with the simplest solution.\n",
    "\n",
    "The sentence is valid with alphabets and numbers and other characters are invalid. Hence I created and empty string and added the alphabets and numbers using a for loop on lower cased input string.\n",
    "I got a word after running the above operation and the rest of the task was to check whether the word is a palindrom which is why I returned an operation checking whether the string and reverse of strin are equal."
   ]
  },
  {
   "cell_type": "code",
   "execution_count": 1,
   "id": "f0cf89da",
   "metadata": {},
   "outputs": [],
   "source": [
    "def isPalindrome(s: str) -> bool:\n",
    "        s=s.lower()\n",
    "        word=\"\"\n",
    "        for i in s:\n",
    "            if i in \"abcdefghijklmnopqrstuvwxyz1234567890\":\n",
    "                word+=i\n",
    "        return word==word[::-1]"
   ]
  },
  {
   "cell_type": "code",
   "execution_count": 2,
   "id": "a8f0f61a",
   "metadata": {},
   "outputs": [
    {
     "name": "stdout",
     "output_type": "stream",
     "text": [
      "True Expected: True \n",
      "False Expected: False \n",
      "False Expected: False \n"
     ]
    }
   ],
   "source": [
    "# test cases\n",
    "c1=\"A man, a plan, a canal: Panama\"\n",
    "c2=\"race a car\"\n",
    "c3=\"0P\"\n",
    "\n",
    "print(isPalindrome(c1),\"Expected: True \")\n",
    "print(isPalindrome(c2),\"Expected: False \")\n",
    "print(isPalindrome(c3),\"Expected: False \") "
   ]
  }
 ],
 "metadata": {
  "kernelspec": {
   "display_name": "base",
   "language": "python",
   "name": "python3"
  },
  "language_info": {
   "codemirror_mode": {
    "name": "ipython",
    "version": 3
   },
   "file_extension": ".py",
   "mimetype": "text/x-python",
   "name": "python",
   "nbconvert_exporter": "python",
   "pygments_lexer": "ipython3",
   "version": "3.12.4"
  }
 },
 "nbformat": 4,
 "nbformat_minor": 5
}
