{
 "cells": [
  {
   "cell_type": "markdown",
   "id": "52eb29b4",
   "metadata": {},
   "source": [
    " Problem 1832 Check if the Sentence Is Pangram"
   ]
  },
  {
   "cell_type": "markdown",
   "id": "8d5e5943",
   "metadata": {},
   "source": [
    "A pangram is a sentence where every letter of the English alphabet appears at least once.\n",
    "\n",
    "Given a string sentence containing only lowercase English letters, return true if sentence is a pangram, or false otherwise.\n",
    "\n",
    " \n",
    "\n",
    "Example 1:\n",
    "\n",
    "Input: sentence = \"thequickbrownfoxjumpsoverthelazydog\"\n",
    "Output: true\n",
    "Explanation: sentence contains at least one of every letter of the English alphabet.\n",
    "Example 2:\n",
    "\n",
    "Input: sentence = \"leetcode\"\n",
    "Output: false\n",
    " \n",
    "\n",
    "Constraints:\n",
    "\n",
    "1 <= sentence.length <= 1000\n",
    "sentence consists of lowercase English letters."
   ]
  },
  {
   "cell_type": "markdown",
   "id": "9e4e0905",
   "metadata": {},
   "source": [
    "Answer:\n"
   ]
  },
  {
   "cell_type": "markdown",
   "id": "e9f85ef4",
   "metadata": {},
   "source": [
    "To solve this question we use a special characteristic of set which is that a set contains only unique elements and it deletes the duplicates. Hence we convert the input into a set and then compare them with 26(as there are 26 alphabets) and return whether they are equal.\n"
   ]
  },
  {
   "cell_type": "code",
   "execution_count": 5,
   "id": "0d15caa5",
   "metadata": {},
   "outputs": [],
   "source": [
    "def checkIfPangram(sentence: str) -> bool:\n",
    "       return len(set(sentence))==26"
   ]
  },
  {
   "cell_type": "markdown",
   "id": "3b6d3c08",
   "metadata": {},
   "source": [
    "Test Cases"
   ]
  },
  {
   "cell_type": "code",
   "execution_count": 1,
   "id": "c8c014b1",
   "metadata": {},
   "outputs": [],
   "source": [
    "s1=\"thequickbrownfoxjumpsoverthelazydog\"\n",
    "s2=\"leetcode\""
   ]
  },
  {
   "cell_type": "code",
   "execution_count": 7,
   "id": "80bb41c2",
   "metadata": {},
   "outputs": [
    {
     "name": "stdout",
     "output_type": "stream",
     "text": [
      "True\n",
      "False\n"
     ]
    }
   ],
   "source": [
    "print(checkIfPangram(s1))  # Should return True\n",
    "print(checkIfPangram(s2))  # Should return False"
   ]
  }
 ],
 "metadata": {
  "kernelspec": {
   "display_name": "base",
   "language": "python",
   "name": "python3"
  },
  "language_info": {
   "codemirror_mode": {
    "name": "ipython",
    "version": 3
   },
   "file_extension": ".py",
   "mimetype": "text/x-python",
   "name": "python",
   "nbconvert_exporter": "python",
   "pygments_lexer": "ipython3",
   "version": "3.12.4"
  }
 },
 "nbformat": 4,
 "nbformat_minor": 5
}
