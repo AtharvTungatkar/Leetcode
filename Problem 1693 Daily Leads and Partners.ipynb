{
 "cells": [
  {
   "cell_type": "markdown",
   "id": "7883d1b4",
   "metadata": {},
   "source": [
    "Problem 1693 Daily Leads and Partners"
   ]
  },
  {
   "cell_type": "markdown",
   "id": "0f5cb6a3",
   "metadata": {},
   "source": [
    "SQL Schema\n",
    "Pandas Schema\n",
    "Table: DailySales\n",
    "\n",
    "+-------------+---------+\n",
    "| Column Name | Type    |\n",
    "+-------------+---------+\n",
    "| date_id     | date    |\n",
    "| make_name   | varchar |\n",
    "| lead_id     | int     |\n",
    "| partner_id  | int     |\n",
    "+-------------+---------+\n",
    "There is no primary key (column with unique values) for this table. It may contain duplicates.\n",
    "This table contains the date and the name of the product sold and the IDs of the lead and partner it was sold to.\n",
    "The name consists of only lowercase English letters.\n",
    " \n",
    "\n",
    "For each date_id and make_name, find the number of distinct lead_id's and distinct partner_id's.\n",
    "\n",
    "Return the result table in any order.\n",
    "\n",
    "The result format is in the following example.\n",
    "\n",
    " \n",
    "\n",
    "Example 1:\n",
    "\n",
    "Input: \n",
    "DailySales table:\n",
    "+-----------+-----------+---------+------------+\n",
    "| date_id   | make_name | lead_id | partner_id |\n",
    "+-----------+-----------+---------+------------+\n",
    "| 2020-12-8 | toyota    | 0       | 1          |\n",
    "| 2020-12-8 | toyota    | 1       | 0          |\n",
    "| 2020-12-8 | toyota    | 1       | 2          |\n",
    "| 2020-12-7 | toyota    | 0       | 2          |\n",
    "| 2020-12-7 | toyota    | 0       | 1          |\n",
    "| 2020-12-8 | honda     | 1       | 2          |\n",
    "| 2020-12-8 | honda     | 2       | 1          |\n",
    "| 2020-12-7 | honda     | 0       | 1          |\n",
    "| 2020-12-7 | honda     | 1       | 2          |\n",
    "| 2020-12-7 | honda     | 2       | 1          |\n",
    "+-----------+-----------+---------+------------+\n",
    "Output: \n",
    "+-----------+-----------+--------------+-----------------+\n",
    "| date_id   | make_name | unique_leads | unique_partners |\n",
    "+-----------+-----------+--------------+-----------------+\n",
    "| 2020-12-8 | toyota    | 2            | 3               |\n",
    "| 2020-12-7 | toyota    | 1            | 2               |\n",
    "| 2020-12-8 | honda     | 2            | 2               |\n",
    "| 2020-12-7 | honda     | 3            | 2               |\n",
    "+-----------+-----------+--------------+-----------------+\n",
    "Explanation: \n",
    "For 2020-12-8, toyota gets leads = [0, 1] and partners = [0, 1, 2] while honda gets leads = [1, 2] and partners = [1, 2].\n",
    "For 2020-12-7, toyota gets leads = [0] and partners = [1, 2] while honda gets leads = [0, 1, 2] and partners = [1, 2]."
   ]
  },
  {
   "cell_type": "markdown",
   "id": "83f4838a",
   "metadata": {},
   "source": [
    "Answer:"
   ]
  },
  {
   "cell_type": "markdown",
   "id": "3a497c91",
   "metadata": {},
   "source": [
    "The problem can be solved by first creating two seperate dataframes for leads and partners to count the unique leads for each date for each brand/make and for the seconda dataframe apply the same process to get unique partners for each date for each brand/make.\n",
    "At last we merge the two dataframes to get the desired result.\n",
    "\n",
    "The unique leads and unique partners datraframes can be createed using the groupby function on date id and make name columns and then passing a nuniue function on the lead id/partner id column into the aggg function."
   ]
  },
  {
   "cell_type": "code",
   "execution_count": 1,
   "id": "3b3cc4df",
   "metadata": {},
   "outputs": [],
   "source": [
    "import pandas as pd\n",
    "\n",
    "def daily_leads_and_partners(daily_sales: pd.DataFrame) -> pd.DataFrame:\n",
    "    lead_unique=daily_sales.groupby(by=['date_id','make_name'],as_index=False).agg({'lead_id':'nunique'}).rename(columns={'lead_id':'unique_leads'})\n",
    "    partner_unique=daily_sales.groupby(by=['date_id','make_name'],as_index=False).agg({'partner_id':'nunique'}).rename(columns={'partner_id':'unique_partners'})\n",
    "    return pd.merge(lead_unique,partner_unique,on=['date_id','make_name'])"
   ]
  },
  {
   "cell_type": "code",
   "execution_count": 6,
   "id": "bce9ab77",
   "metadata": {},
   "outputs": [
    {
     "name": "stdout",
     "output_type": "stream",
     "text": [
      "     date_id make_name  unique_leads  unique_partners\n",
      "0  2020-12-7     honda             3                2\n",
      "1  2020-12-7    toyota             1                2\n",
      "2  2020-12-8     honda             2                2\n",
      "3  2020-12-8    toyota             2                3\n",
      "     date_id make_name  unique_leads  unique_partners\n",
      "0  2020-12-8    toyota             2                3\n",
      "1  2020-12-7    toyota             1                2\n",
      "2  2020-12-8     honda             2                2\n",
      "3  2020-12-7     honda             3                2\n"
     ]
    }
   ],
   "source": [
    "# test case\n",
    "input=pd.DataFrame({\n",
    "    \"date_id\": [\"2020-12-8\", \"2020-12-8\", \"2020-12-8\", \"2020-12-7\", \"2020-12-7\",\n",
    "                \"2020-12-8\", \"2020-12-8\", \"2020-12-7\", \"2020-12-7\", \"2020-12-7\"],\n",
    "    \"make_name\": [\"toyota\", \"toyota\", \"toyota\", \"toyota\", \"toyota\",\n",
    "                  \"honda\", \"honda\", \"honda\", \"honda\", \"honda\"],\n",
    "    \"lead_id\": [0, 1, 1, 0, 0, 1, 2, 0, 1, 2],\n",
    "    \"partner_id\": [1, 0, 2, 2, 1, 2, 1, 1, 2, 1]\n",
    "})\n",
    "output=pd.DataFrame({\n",
    "    \"date_id\": [\"2020-12-8\", \"2020-12-7\", \"2020-12-8\", \"2020-12-7\"],\n",
    "    \"make_name\": [\"toyota\", \"toyota\", \"honda\", \"honda\"],\n",
    "    \"unique_leads\": [2, 1, 2, 3],\n",
    "    \"unique_partners\": [3, 2, 2, 2]\n",
    "})\n",
    "# The order might be different but the answers are the same.\n",
    "print(daily_leads_and_partners(input))\n",
    "print(output)"
   ]
  }
 ],
 "metadata": {
  "kernelspec": {
   "display_name": "base",
   "language": "python",
   "name": "python3"
  },
  "language_info": {
   "codemirror_mode": {
    "name": "ipython",
    "version": 3
   },
   "file_extension": ".py",
   "mimetype": "text/x-python",
   "name": "python",
   "nbconvert_exporter": "python",
   "pygments_lexer": "ipython3",
   "version": "3.12.4"
  }
 },
 "nbformat": 4,
 "nbformat_minor": 5
}
