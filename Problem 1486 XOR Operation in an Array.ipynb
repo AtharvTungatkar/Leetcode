{
 "cells": [
  {
   "cell_type": "markdown",
   "id": "cf5958ff",
   "metadata": {},
   "source": [
    "Problem 1486 XOR Operation in an Array"
   ]
  },
  {
   "cell_type": "markdown",
   "id": "f60a3d99",
   "metadata": {},
   "source": [
    "You are given an integer n and an integer start.\n",
    "\n",
    "Define an array nums where nums[i] = start + 2 * i (0-indexed) and n == nums.length.\n",
    "\n",
    "Return the bitwise XOR of all elements of nums.\n",
    "\n",
    " \n",
    "\n",
    "Example 1:\n",
    "\n",
    "Input: n = 5, start = 0\n",
    "Output: 8\n",
    "Explanation: Array nums is equal to [0, 2, 4, 6, 8] where (0 ^ 2 ^ 4 ^ 6 ^ 8) = 8.\n",
    "Where \"^\" corresponds to bitwise XOR operator.\n",
    "Example 2:\n",
    "\n",
    "Input: n = 4, start = 3\n",
    "Output: 8\n",
    "Explanation: Array nums is equal to [3, 5, 7, 9] where (3 ^ 5 ^ 7 ^ 9) = 8.\n",
    " \n",
    "\n",
    "Constraints:\n",
    "\n",
    "1 <= n <= 1000\n",
    "0 <= start <= 1000\n",
    "n == nums.length"
   ]
  },
  {
   "cell_type": "markdown",
   "id": "b31332ef",
   "metadata": {},
   "source": [
    "Answer:"
   ]
  },
  {
   "cell_type": "markdown",
   "id": "8f0175e5",
   "metadata": {},
   "source": [
    "To solve this question we must first consider to learn a little about XOR operation\n",
    "\n",
    "XOR is a logical operator that outputs exclusive OR. In simple words negation of OR.\n",
    "OR outputs 1 if either one of input is 1 or else ouputs 0.\n",
    "\n",
    "The XOR operator in python is \"^\".\n",
    "\n",
    "\n",
    "In this problem we create an array named nums of length n(input of function) starting from start(input of function) and add consecutive elements such that \n",
    "nums[i]=start+2*i\n",
    "then we have to perform XOR operator on all of the elements of nums\n",
    "\n",
    "So to solve we first create a result variable and initiate to 0.\n",
    "Now instead of creating an array and then performing XOR on all elements, we add the XOR result to the results variable as we move forward using for loop and then return results."
   ]
  },
  {
   "cell_type": "code",
   "execution_count": 1,
   "id": "1d1cd9c3",
   "metadata": {},
   "outputs": [],
   "source": [
    "def xorOperation(n: int, start: int) -> int:\n",
    "        result=0\n",
    "        for i in range(n):\n",
    "            result=result^(start+2*i)\n",
    "        return result"
   ]
  },
  {
   "cell_type": "code",
   "execution_count": 2,
   "id": "e8139ced",
   "metadata": {},
   "outputs": [
    {
     "name": "stdout",
     "output_type": "stream",
     "text": [
      "Test case 1 passed.\n",
      "Test case 2 passed.\n"
     ]
    }
   ],
   "source": [
    "# Test Cases\n",
    "\n",
    "n=[5,4]\n",
    "start=[0,3]\n",
    "expected=[8,8]\n",
    "\n",
    "for i in range(len(n)):\n",
    "    xorOperation(n=n[i],start=start[i])==expected[i] and print(f\"Test case {i+1} passed.\")"
   ]
  }
 ],
 "metadata": {
  "kernelspec": {
   "display_name": "base",
   "language": "python",
   "name": "python3"
  },
  "language_info": {
   "codemirror_mode": {
    "name": "ipython",
    "version": 3
   },
   "file_extension": ".py",
   "mimetype": "text/x-python",
   "name": "python",
   "nbconvert_exporter": "python",
   "pygments_lexer": "ipython3",
   "version": "3.12.4"
  }
 },
 "nbformat": 4,
 "nbformat_minor": 5
}
