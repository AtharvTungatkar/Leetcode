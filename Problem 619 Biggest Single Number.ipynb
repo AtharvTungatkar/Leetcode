{
 "cells": [
  {
   "cell_type": "markdown",
   "id": "49c82742",
   "metadata": {},
   "source": [
    "Problem 619 Biggest Single Number\n"
   ]
  },
  {
   "cell_type": "markdown",
   "id": "e10f1ced",
   "metadata": {},
   "source": [
    "SQL Schema\n",
    "Pandas Schema\n",
    "Table: MyNumbers\n",
    "\n",
    "+-------------+------+\n",
    "| Column Name | Type |\n",
    "+-------------+------+\n",
    "| num         | int  |\n",
    "+-------------+------+\n",
    "This table may contain duplicates (In other words, there is no primary key for this table in SQL).\n",
    "Each row of this table contains an integer.\n",
    " \n",
    "\n",
    "A single number is a number that appeared only once in the MyNumbers table.\n",
    "\n",
    "Find the largest single number. If there is no single number, report null.\n",
    "\n",
    "The result format is in the following example.\n",
    "\n",
    " \n",
    "\n",
    "Example 1:\n",
    "\n",
    "Input: \n",
    "MyNumbers table:\n",
    "+-----+\n",
    "| num |\n",
    "+-----+\n",
    "| 8   |\n",
    "| 8   |\n",
    "| 3   |\n",
    "| 3   |\n",
    "| 1   |\n",
    "| 4   |\n",
    "| 5   |\n",
    "| 6   |\n",
    "+-----+\n",
    "Output: \n",
    "+-----+\n",
    "| num |\n",
    "+-----+\n",
    "| 6   |\n",
    "+-----+\n",
    "Explanation: The single numbers are 1, 4, 5, and 6.\n",
    "Since 6 is the largest single number, we return it.\n",
    "Example 2:\n",
    "\n",
    "Input: \n",
    "MyNumbers table:\n",
    "+-----+\n",
    "| num |\n",
    "+-----+\n",
    "| 8   |\n",
    "| 8   |\n",
    "| 7   |\n",
    "| 7   |\n",
    "| 3   |\n",
    "| 3   |\n",
    "| 3   |\n",
    "+-----+\n",
    "Output: \n",
    "+------+\n",
    "| num  |\n",
    "+------+\n",
    "| null |\n",
    "+------+\n",
    "Explanation: There are no single numbers in the input table so we return null."
   ]
  },
  {
   "cell_type": "markdown",
   "id": "c35ac436",
   "metadata": {},
   "source": [
    "Answer:"
   ]
  },
  {
   "cell_type": "markdown",
   "id": "a68d6719",
   "metadata": {},
   "source": [
    "The problem requires to filter out rows which are not unique and then return the greatest integer.\n",
    "\n",
    "To solve this we first filter cout the numbers that are equal to one using the groupby and filter function. Then we simply take the max of it and pass it to the to_frame function to convert it into a datraframe."
   ]
  },
  {
   "cell_type": "code",
   "execution_count": 2,
   "id": "9035536b",
   "metadata": {},
   "outputs": [],
   "source": [
    "import pandas as pd\n",
    "def biggest_single_number(my_numbers: pd.DataFrame) -> pd.DataFrame:\n",
    "    return my_numbers.groupby('num').filter(lambda x:len(x)==1).max().to_frame(name='num')"
   ]
  },
  {
   "cell_type": "code",
   "execution_count": 4,
   "id": "3e0894a8",
   "metadata": {},
   "outputs": [
    {
     "name": "stdout",
     "output_type": "stream",
     "text": [
      "     num\n",
      "num    6 Expected:6\n",
      "     num\n",
      "num  NaN Expected:NaN\n"
     ]
    }
   ],
   "source": [
    "# Test Cases\n",
    "\n",
    "c1=pd.DataFrame({'num':[8,8,3,3,1,4,5,6]})\n",
    "c2=pd.DataFrame({'num':[8,8,7,7,3,3,3]})\n",
    "\n",
    "print(biggest_single_number(c1),'Expected:6')  \n",
    "print(biggest_single_number(c2),'Expected:NaN') "
   ]
  }
 ],
 "metadata": {
  "kernelspec": {
   "display_name": "base",
   "language": "python",
   "name": "python3"
  },
  "language_info": {
   "codemirror_mode": {
    "name": "ipython",
    "version": 3
   },
   "file_extension": ".py",
   "mimetype": "text/x-python",
   "name": "python",
   "nbconvert_exporter": "python",
   "pygments_lexer": "ipython3",
   "version": "3.12.4"
  }
 },
 "nbformat": 4,
 "nbformat_minor": 5
}
