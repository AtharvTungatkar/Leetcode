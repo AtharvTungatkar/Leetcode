{
 "cells": [
  {
   "cell_type": "markdown",
   "id": "ba67a57c",
   "metadata": {},
   "source": [
    "Problem 217 Contains Duplicate"
   ]
  },
  {
   "cell_type": "markdown",
   "id": "202e2287",
   "metadata": {},
   "source": [
    "Given an integer array nums, return true if any value appears at least twice in the array, and return false if every element is distinct.\n",
    "\n",
    " \n",
    "\n",
    "Example 1:\n",
    "\n",
    "Input: nums = [1,2,3,1]\n",
    "\n",
    "Output: true\n",
    "\n",
    "Explanation:\n",
    "\n",
    "The element 1 occurs at the indices 0 and 3.\n",
    "\n",
    "Example 2:\n",
    "\n",
    "Input: nums = [1,2,3,4]\n",
    "\n",
    "Output: false\n",
    "\n",
    "Explanation:\n",
    "\n",
    "All elements are distinct.\n",
    "\n",
    "Example 3:\n",
    "\n",
    "Input: nums = [1,1,1,3,3,4,3,2,4,2]\n",
    "\n",
    "Output: true\n",
    "\n",
    " \n",
    "\n",
    "Constraints:\n",
    "\n",
    "1 <= nums.length <= 105\n",
    "-109 <= nums[i] <= 109"
   ]
  },
  {
   "cell_type": "markdown",
   "id": "e276e05c",
   "metadata": {},
   "source": [
    "Answer:"
   ]
  },
  {
   "cell_type": "markdown",
   "id": "e8769438",
   "metadata": {},
   "source": [
    "First I tried solving it using brute force and it worked fine until one of the case studies had large number of elements in the list."
   ]
  },
  {
   "cell_type": "code",
   "execution_count": 2,
   "id": "fdd734f0",
   "metadata": {},
   "outputs": [],
   "source": [
    "# Brute force approch which did worked but lead to exceeded time limit \n",
    "\n",
    "def containsDuplicate(nums: list[int]) -> bool:\n",
    "        for i in range(len(nums)):\n",
    "            for j in range(i+1,len(nums)):\n",
    "                if nums[i]==nums[j]:\n",
    "                    return True\n",
    "        return False"
   ]
  },
  {
   "cell_type": "markdown",
   "id": "da5fa71f",
   "metadata": {},
   "source": [
    "I tried solving it using the sets approach in python which is if the length of nums is equal to the length of set of nums then we return false otherwise true."
   ]
  },
  {
   "cell_type": "code",
   "execution_count": 4,
   "id": "cbe64495",
   "metadata": {},
   "outputs": [],
   "source": [
    "def containsDuplicate(nums: list[int]) -> bool:\n",
    "        return len(nums)!=len(set(nums))"
   ]
  },
  {
   "cell_type": "code",
   "execution_count": 5,
   "id": "94b4f49c",
   "metadata": {},
   "outputs": [
    {
     "name": "stdout",
     "output_type": "stream",
     "text": [
      "True Expected:True\n",
      "False Expected:False\n",
      "True Expected:True\n"
     ]
    }
   ],
   "source": [
    "# Test Cases\n",
    "c1=[1,2,3,1]\n",
    "c2=[1,2,3,4]\n",
    "c3=[1,1,1,3,3,4,3,2,4,2]\n",
    "\n",
    "print(containsDuplicate(c1),\"Expected:True\")\n",
    "print(containsDuplicate(c2),\"Expected:False\")\n",
    "print(containsDuplicate(c3),\"Expected:True\") "
   ]
  }
 ],
 "metadata": {
  "kernelspec": {
   "display_name": "base",
   "language": "python",
   "name": "python3"
  },
  "language_info": {
   "codemirror_mode": {
    "name": "ipython",
    "version": 3
   },
   "file_extension": ".py",
   "mimetype": "text/x-python",
   "name": "python",
   "nbconvert_exporter": "python",
   "pygments_lexer": "ipython3",
   "version": "3.12.4"
  }
 },
 "nbformat": 4,
 "nbformat_minor": 5
}
