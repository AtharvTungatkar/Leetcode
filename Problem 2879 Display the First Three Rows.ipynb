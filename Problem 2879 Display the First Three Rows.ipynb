{
 "cells": [
  {
   "cell_type": "markdown",
   "id": "25f93341",
   "metadata": {},
   "source": [
    "Problem 2879 Display the First Three Rows"
   ]
  },
  {
   "cell_type": "markdown",
   "id": "4336c051",
   "metadata": {},
   "source": [
    "Easy\n",
    "premium lock icon\n",
    "Companies\n",
    "Hint\n",
    "DataFrame: employees\n",
    "+-------------+--------+\n",
    "| Column Name | Type   |\n",
    "+-------------+--------+\n",
    "| employee_id | int    |\n",
    "| name        | object |\n",
    "| department  | object |\n",
    "| salary      | int    |\n",
    "+-------------+--------+\n",
    "Write a solution to display the first 3 rows of this DataFrame.\n",
    "\n",
    " \n",
    "\n",
    "Example 1:\n",
    "\n",
    "Input:\n",
    "DataFrame employees\n",
    "+-------------+-----------+-----------------------+--------+\n",
    "| employee_id | name      | department            | salary |\n",
    "+-------------+-----------+-----------------------+--------+\n",
    "| 3           | Bob       | Operations            | 48675  |\n",
    "| 90          | Alice     | Sales                 | 11096  |\n",
    "| 9           | Tatiana   | Engineering           | 33805  |\n",
    "| 60          | Annabelle | InformationTechnology | 37678  |\n",
    "| 49          | Jonathan  | HumanResources        | 23793  |\n",
    "| 43          | Khaled    | Administration        | 40454  |\n",
    "+-------------+-----------+-----------------------+--------+\n",
    "Output:\n",
    "+-------------+---------+-------------+--------+\n",
    "| employee_id | name    | department  | salary |\n",
    "+-------------+---------+-------------+--------+\n",
    "| 3           | Bob     | Operations  | 48675  |\n",
    "| 90          | Alice   | Sales       | 11096  |\n",
    "| 9           | Tatiana | Engineering | 33805  |\n",
    "+-------------+---------+-------------+--------+\n",
    "Explanation: \n",
    "Only the first 3 rows are displayed."
   ]
  },
  {
   "cell_type": "markdown",
   "id": "9861e202",
   "metadata": {},
   "source": [
    "Answer:"
   ]
  },
  {
   "cell_type": "markdown",
   "id": "d7a6f272",
   "metadata": {},
   "source": [
    "To solve this problem I filtered the input DataFrame to only include records from June 28, 2019, through July 27, 2019. Once I had filtered down the data, I grouped it by date and then determined the number of unique users present on each day. I also renamed the date column to 'day' and the counts of daily active users were stored in a column called 'active_users'. The end output is a tidy and neat DataFrame summarizing daily user activity for the time period selected."
   ]
  },
  {
   "cell_type": "code",
   "execution_count": 2,
   "id": "51b619cb",
   "metadata": {},
   "outputs": [],
   "source": [
    "import pandas as pd\n",
    "def user_activity(activity: pd.DataFrame) -> pd.DataFrame:\n",
    "    df=activity\n",
    "    df_filtered = df[\n",
    "    (df['activity_date'] >= '2019-06-28') &\n",
    "    (df['activity_date'] <= '2019-07-27')\n",
    "    ]\n",
    "    result = (\n",
    "        df_filtered\n",
    "        .groupby('activity_date')['user_id']\n",
    "        .nunique()\n",
    "        .reset_index(name='active_users')\n",
    "        .rename(columns={'activity_date': 'day'})\n",
    "    )\n",
    "    return result"
   ]
  },
  {
   "cell_type": "code",
   "execution_count": 3,
   "id": "0c8b8f8f",
   "metadata": {},
   "outputs": [
    {
     "name": "stdout",
     "output_type": "stream",
     "text": [
      "True\n"
     ]
    }
   ],
   "source": [
    "# Test case\n",
    "\n",
    "c1=pd.DataFrame({\n",
    "    'user_id':[1,1,1,2,2,2,3,3,3,4,4],\n",
    "    'session_id':[1,1,1,2,2,2,4,4,4,3,3],\n",
    "    'activity_date':[\n",
    "        '2019-07-20','2019-07-20','2019-07-20',\n",
    "        '2019-07-20','2019-07-21','2019-07-21',\n",
    "        '2019-07-21','2019-07-21','2019-07-21',\n",
    "        '2019-06-25','2019-06-25'],\n",
    "    'activity_type':['open_session','scroll_down','end_session','open_session','send_message','end_session','open_session','send_message','end_session','open_session','end_session']\n",
    "\n",
    "})\n",
    "eo1=pd.DataFrame({'day':['2019-07-20','2019-07-21'],\n",
    "                  'active_users':[2,2]})\n",
    "\n",
    "\n",
    "print(user_activity(c1).equals(eo1))  # Should print True"
   ]
  }
 ],
 "metadata": {
  "kernelspec": {
   "display_name": "base",
   "language": "python",
   "name": "python3"
  },
  "language_info": {
   "codemirror_mode": {
    "name": "ipython",
    "version": 3
   },
   "file_extension": ".py",
   "mimetype": "text/x-python",
   "name": "python",
   "nbconvert_exporter": "python",
   "pygments_lexer": "ipython3",
   "version": "3.12.4"
  }
 },
 "nbformat": 4,
 "nbformat_minor": 5
}
