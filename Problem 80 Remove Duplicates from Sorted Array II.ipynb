{
 "cells": [
  {
   "cell_type": "markdown",
   "id": "495555ef",
   "metadata": {},
   "source": [
    "Problem 80 Remove Duplicates from Sorted Array II"
   ]
  },
  {
   "cell_type": "markdown",
   "id": "e27341af",
   "metadata": {},
   "source": [
    "Given an integer array nums sorted in non-decreasing order, remove some duplicates in-place such that each unique element appears at most twice. The relative order of the elements should be kept the same.\n",
    "\n",
    "Since it is impossible to change the length of the array in some languages, you must instead have the result be placed in the first part of the array nums. More formally, if there are k elements after removing the duplicates, then the first k elements of nums should hold the final result. It does not matter what you leave beyond the first k elements.\n",
    "\n",
    "Return k after placing the final result in the first k slots of nums.\n",
    "\n",
    "Do not allocate extra space for another array. You must do this by modifying the input array in-place with O(1) extra memory.\n",
    "\n",
    "Custom Judge:\n",
    "\n",
    "The judge will test your solution with the following code:\n",
    "\n",
    "int[] nums = [...]; // Input array\n",
    "int[] expectedNums = [...]; // The expected answer with correct length\n",
    "\n",
    "int k = removeDuplicates(nums); // Calls your implementation\n",
    "\n",
    "assert k == expectedNums.length;\n",
    "for (int i = 0; i < k; i++) {\n",
    "    assert nums[i] == expectedNums[i];\n",
    "}\n",
    "If all assertions pass, then your solution will be accepted.\n",
    "\n",
    " \n",
    "\n",
    "Example 1:\n",
    "\n",
    "Input: nums = [1,1,1,2,2,3]\n",
    "Output: 5, nums = [1,1,2,2,3,_]\n",
    "Explanation: Your function should return k = 5, with the first five elements of nums being 1, 1, 2, 2 and 3 respectively.\n",
    "It does not matter what you leave beyond the returned k (hence they are underscores).\n",
    "Example 2:\n",
    "\n",
    "Input: nums = [0,0,1,1,1,1,2,3,3]\n",
    "Output: 7, nums = [0,0,1,1,2,3,3,_,_]\n",
    "Explanation: Your function should return k = 7, with the first seven elements of nums being 0, 0, 1, 1, 2, 3 and 3 respectively.\n",
    "It does not matter what you leave beyond the returned k (hence they are underscores).\n",
    " \n",
    "\n",
    "Constraints:\n",
    "\n",
    "1 <= nums.length <= 3 * 104\n",
    "-104 <= nums[i] <= 104\n",
    "nums is sorted in non-decreasing order."
   ]
  },
  {
   "cell_type": "markdown",
   "id": "a45b74db",
   "metadata": {},
   "source": [
    "Answer:"
   ]
  },
  {
   "cell_type": "markdown",
   "id": "9b214f89",
   "metadata": {},
   "source": [
    "This problem is solved using two pointers (i,j) and a count variable.\n",
    "\n",
    "The solution is simple we start by initiating value of j as 1 and count as 0.\n",
    "Then we iterate i through the (1,length of nums).\n",
    "Hence the index starts from 1 and the 0 th index is already accounted as 1 when we initiate j=1.\n",
    "\n",
    "THen we introduce a if state to chech whether the previous element in loop is similar to the current element and if it is we increase count by 1.\n",
    "\n",
    "If it is not the in the else block we keep count as it is.\n",
    "\n",
    "We introduce another if statement to check whether count<=2 as we don't want more than two repeated values. If the condition is staisfied then we replace the j th value inn nums by the i th value in nums and then increase j by 1."
   ]
  },
  {
   "cell_type": "code",
   "execution_count": 1,
   "id": "8a650a42",
   "metadata": {},
   "outputs": [],
   "source": [
    "def removeDuplicates(nums: list[int]) -> int:\n",
    "    j=1\n",
    "    count=1\n",
    "    n=len(nums)\n",
    "    for i in range(1,n):\n",
    "        if nums[i]==nums[i-1]:\n",
    "            count+=1\n",
    "        else:\n",
    "            count=1\n",
    "        if count<=2:\n",
    "            nums[j]=nums[i]\n",
    "            j+=1\n",
    "    return j"
   ]
  },
  {
   "cell_type": "code",
   "execution_count": 3,
   "id": "9dc16188",
   "metadata": {},
   "outputs": [
    {
     "name": "stdout",
     "output_type": "stream",
     "text": [
      "Calculated: 5 Expected: 5\n",
      "Calculated: 7 Expected: 7\n"
     ]
    }
   ],
   "source": [
    "# Test cases\n",
    "c1=[1,1,1,2,2,3]\n",
    "c2=[0,0,1,1,1,1,2,3,3]\n",
    "\n",
    "print(\"Calculated:\",removeDuplicates(c1),'Expected:',5)  # Output: 5\n",
    "print(\"Calculated:\", removeDuplicates(c2), 'Expected:', 7)  # Output: 7"
   ]
  }
 ],
 "metadata": {
  "kernelspec": {
   "display_name": "base",
   "language": "python",
   "name": "python3"
  },
  "language_info": {
   "codemirror_mode": {
    "name": "ipython",
    "version": 3
   },
   "file_extension": ".py",
   "mimetype": "text/x-python",
   "name": "python",
   "nbconvert_exporter": "python",
   "pygments_lexer": "ipython3",
   "version": "3.12.4"
  }
 },
 "nbformat": 4,
 "nbformat_minor": 5
}
