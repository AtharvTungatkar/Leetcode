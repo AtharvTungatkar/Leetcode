{
 "cells": [
  {
   "cell_type": "markdown",
   "id": "6286a86f",
   "metadata": {},
   "source": [
    "Problem 1050 Actors and Directors Who Cooperated At Least Three Times"
   ]
  },
  {
   "cell_type": "markdown",
   "id": "4f837700",
   "metadata": {},
   "source": [
    "SQL Schema\n",
    "Pandas Schema\n",
    "Table: ActorDirector\n",
    "\n",
    "+-------------+---------+\n",
    "| Column Name | Type    |\n",
    "+-------------+---------+\n",
    "| actor_id    | int     |\n",
    "| director_id | int     |\n",
    "| timestamp   | int     |\n",
    "+-------------+---------+\n",
    "timestamp is the primary key (column with unique values) for this table.\n",
    " \n",
    "\n",
    "Write a solution to find all the pairs (actor_id, director_id) where the actor has cooperated with the director at least three times.\n",
    "\n",
    "Return the result table in any order.\n",
    "\n",
    "The result format is in the following example.\n",
    "\n",
    " \n",
    "\n",
    "Example 1:\n",
    "\n",
    "Input: \n",
    "ActorDirector table:\n",
    "+-------------+-------------+-------------+\n",
    "| actor_id    | director_id | timestamp   |\n",
    "+-------------+-------------+-------------+\n",
    "| 1           | 1           | 0           |\n",
    "| 1           | 1           | 1           |\n",
    "| 1           | 1           | 2           |\n",
    "| 1           | 2           | 3           |\n",
    "| 1           | 2           | 4           |\n",
    "| 2           | 1           | 5           |\n",
    "| 2           | 1           | 6           |\n",
    "+-------------+-------------+-------------+\n",
    "Output: \n",
    "+-------------+-------------+\n",
    "| actor_id    | director_id |\n",
    "+-------------+-------------+\n",
    "| 1           | 1           |\n",
    "+-------------+-------------+\n",
    "Explanation: The only pair is (1, 1) where they cooperated exactly 3 times."
   ]
  },
  {
   "cell_type": "markdown",
   "id": "5b056feb",
   "metadata": {},
   "source": [
    "Answer:"
   ]
  },
  {
   "cell_type": "markdown",
   "id": "45d9f6de",
   "metadata": {},
   "source": [
    "To solve this question I used the groupby function to froup actorid and director id together and then filtered out pairs that occured at least three times."
   ]
  },
  {
   "cell_type": "code",
   "execution_count": 1,
   "id": "07efbf73",
   "metadata": {},
   "outputs": [],
   "source": [
    "import pandas as pd\n",
    "\n",
    "def actors_and_directors(actor_director: pd.DataFrame) -> pd.DataFrame:\n",
    "    grouped = actor_director.groupby(['actor_id', 'director_id']).size().reset_index(name='count')\n",
    "    result = grouped[grouped['count'] >= 3][['actor_id', 'director_id']]\n",
    "    return result"
   ]
  },
  {
   "cell_type": "code",
   "execution_count": 9,
   "id": "e0a88de9",
   "metadata": {},
   "outputs": [
    {
     "name": "stdout",
     "output_type": "stream",
     "text": [
      "Expected: \n",
      "   actor_id  director_id\n",
      "0         1            1\n",
      "   actor_id  director_id\n",
      "0         1            1\n"
     ]
    }
   ],
   "source": [
    "# Test cases\n",
    "\n",
    "c1=pd.DataFrame({'actor_id': [1, 1,1,1,1,2,2],\n",
    "                 'director_id': [1,1,1,2,2,1,1]})\n",
    "\n",
    "actors_and_directors(c1)\n",
    "print('Expected: \\n   actor_id  director_id\\n0         1            1')\n",
    "print(actors_and_directors(c1))"
   ]
  }
 ],
 "metadata": {
  "kernelspec": {
   "display_name": "base",
   "language": "python",
   "name": "python3"
  },
  "language_info": {
   "codemirror_mode": {
    "name": "ipython",
    "version": 3
   },
   "file_extension": ".py",
   "mimetype": "text/x-python",
   "name": "python",
   "nbconvert_exporter": "python",
   "pygments_lexer": "ipython3",
   "version": "3.12.4"
  }
 },
 "nbformat": 4,
 "nbformat_minor": 5
}
