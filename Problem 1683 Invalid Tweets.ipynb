{
 "cells": [
  {
   "cell_type": "markdown",
   "id": "56224716",
   "metadata": {},
   "source": [
    "Problem 1683 Invalid Tweets"
   ]
  },
  {
   "cell_type": "markdown",
   "id": "ab2f7750",
   "metadata": {},
   "source": [
    "SQL Schema\n",
    "Pandas Schema\n",
    "Table: Tweets\n",
    "\n",
    "+----------------+---------+\n",
    "| Column Name    | Type    |\n",
    "+----------------+---------+\n",
    "| tweet_id       | int     |\n",
    "| content        | varchar |\n",
    "+----------------+---------+\n",
    "tweet_id is the primary key (column with unique values) for this table.\n",
    "content consists of alphanumeric characters, '!', or ' ' and no other special characters.\n",
    "This table contains all the tweets in a social media app.\n",
    " \n",
    "\n",
    "Write a solution to find the IDs of the invalid tweets. The tweet is invalid if the number of characters used in the content of the tweet is strictly greater than 15.\n",
    "\n",
    "Return the result table in any order.\n",
    "\n",
    "The result format is in the following example.\n",
    "\n",
    " \n",
    "\n",
    "Example 1:\n",
    "\n",
    "Input: \n",
    "Tweets table:\n",
    "+----------+-----------------------------------+\n",
    "| tweet_id | content                           |\n",
    "+----------+-----------------------------------+\n",
    "| 1        | Let us Code                       |\n",
    "| 2        | More than fifteen chars are here! |\n",
    "+----------+-----------------------------------+\n",
    "Output: \n",
    "+----------+\n",
    "| tweet_id |\n",
    "+----------+\n",
    "| 2        |\n",
    "+----------+\n",
    "Explanation: \n",
    "Tweet 1 has length = 11. It is a valid tweet.\n",
    "Tweet 2 has length = 33. It is an invalid tweet."
   ]
  },
  {
   "cell_type": "markdown",
   "id": "1cf8baaa",
   "metadata": {},
   "source": [
    "Answer:"
   ]
  },
  {
   "cell_type": "markdown",
   "id": "6c65f738",
   "metadata": {},
   "source": [
    "This is a simple problem in which we filter out rows havving content column length greater than 15. this is done by using the str.len function."
   ]
  },
  {
   "cell_type": "code",
   "execution_count": 2,
   "id": "90765b4f",
   "metadata": {},
   "outputs": [],
   "source": [
    "import pandas as pd\n",
    "\n",
    "def invalid_tweets(tweets: pd.DataFrame) -> pd.DataFrame:\n",
    "    invalid=tweets[tweets['content'].str.len()>15]\n",
    "    return invalid[['tweet_id']]"
   ]
  },
  {
   "cell_type": "code",
   "execution_count": 3,
   "id": "0ed33efe",
   "metadata": {},
   "outputs": [
    {
     "name": "stdout",
     "output_type": "stream",
     "text": [
      "   tweet_id\n",
      "1         2\n",
      "2         3\n",
      "3         4\n"
     ]
    }
   ],
   "source": [
    "# test cases\n",
    "\n",
    "tweets = pd.DataFrame({\n",
    "    'tweet_id': [1, 2, 3, 4],\n",
    "    'content': ['short tweet', 'this tweet is way too long', 'another short one', 'this one is also way too long']\n",
    "})\n",
    "\n",
    "print(invalid_tweets(tweets))"
   ]
  }
 ],
 "metadata": {
  "kernelspec": {
   "display_name": "base",
   "language": "python",
   "name": "python3"
  },
  "language_info": {
   "codemirror_mode": {
    "name": "ipython",
    "version": 3
   },
   "file_extension": ".py",
   "mimetype": "text/x-python",
   "name": "python",
   "nbconvert_exporter": "python",
   "pygments_lexer": "ipython3",
   "version": "3.12.4"
  }
 },
 "nbformat": 4,
 "nbformat_minor": 5
}
