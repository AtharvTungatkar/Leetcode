{
 "cells": [
  {
   "cell_type": "markdown",
   "id": "48e1de72",
   "metadata": {},
   "source": [
    "Problem 584 Find Customer Referee\n"
   ]
  },
  {
   "cell_type": "markdown",
   "id": "8e97c4db",
   "metadata": {},
   "source": [
    "SQL Schema\n",
    "Pandas Schema\n",
    "Table: Customer\n",
    "\n",
    "+-------------+---------+\n",
    "| Column Name | Type    |\n",
    "+-------------+---------+\n",
    "| id          | int     |\n",
    "| name        | varchar |\n",
    "| referee_id  | int     |\n",
    "+-------------+---------+\n",
    "In SQL, id is the primary key column for this table.\n",
    "Each row of this table indicates the id of a customer, their name, and the id of the customer who referred them.\n",
    " \n",
    "\n",
    "Find the names of the customer that are either:\n",
    "\n",
    "referred by any customer with id != 2.\n",
    "not referred by any customer.\n",
    "Return the result table in any order.\n",
    "\n",
    "The result format is in the following example.\n",
    "\n",
    " \n",
    "\n",
    "Example 1:\n",
    "\n",
    "Input: \n",
    "Customer table:\n",
    "+----+------+------------+\n",
    "| id | name | referee_id |\n",
    "+----+------+------------+\n",
    "| 1  | Will | null       |\n",
    "| 2  | Jane | null       |\n",
    "| 3  | Alex | 2          |\n",
    "| 4  | Bill | null       |\n",
    "| 5  | Zack | 1          |\n",
    "| 6  | Mark | 2          |\n",
    "+----+------+------------+\n",
    "Output: \n",
    "+------+\n",
    "| name |\n",
    "+------+\n",
    "| Will |\n",
    "| Jane |\n",
    "| Bill |\n",
    "| Zack |\n",
    "+------+"
   ]
  },
  {
   "cell_type": "markdown",
   "id": "11fa44c2",
   "metadata": {},
   "source": [
    "Answer:"
   ]
  },
  {
   "cell_type": "markdown",
   "id": "2cf5e7df",
   "metadata": {},
   "source": [
    "I solved this problem by simply filtering the dataframe with condition either the refree id is not equal to 2 or the refree id is NA value. and return the name column of the dataframe."
   ]
  },
  {
   "cell_type": "code",
   "execution_count": 2,
   "id": "ef45b37b",
   "metadata": {},
   "outputs": [],
   "source": [
    "import pandas as pd\n",
    "def find_customer_referee(customer: pd.DataFrame) -> pd.DataFrame:\n",
    "    return customer[(customer['referee_id']!=2) | (customer['referee_id'].isna())][['name']]"
   ]
  },
  {
   "cell_type": "code",
   "execution_count": 6,
   "id": "03cd480f",
   "metadata": {},
   "outputs": [
    {
     "name": "stdout",
     "output_type": "stream",
     "text": [
      "   name\n",
      "0  Will\n",
      "1  Jane\n",
      "3  Bill\n",
      "4  Zack\n",
      "   name\n",
      "0  Will\n",
      "1  Jane\n",
      "2  Bill\n",
      "3  Zack\n"
     ]
    }
   ],
   "source": [
    "# Test case\n",
    "\n",
    "customer_tavbe = pd.DataFrame({\n",
    "    'id': [1, 2, 3, 4, 5, 6],\n",
    "    'name': ['Will', 'Jane', 'Alex', 'Bill', 'Zack', 'Mark'],\n",
    "    'referee_id': [None, None, 2, None, 1, 2]})\n",
    "expected_output = pd.DataFrame({\n",
    "    'name': ['Will', 'Jane', 'Bill', 'Zack']})\n",
    "print(find_customer_referee(customer_tavbe))\n",
    "print(expected_output)\n"
   ]
  }
 ],
 "metadata": {
  "kernelspec": {
   "display_name": "base",
   "language": "python",
   "name": "python3"
  },
  "language_info": {
   "codemirror_mode": {
    "name": "ipython",
    "version": 3
   },
   "file_extension": ".py",
   "mimetype": "text/x-python",
   "name": "python",
   "nbconvert_exporter": "python",
   "pygments_lexer": "ipython3",
   "version": "3.12.4"
  }
 },
 "nbformat": 4,
 "nbformat_minor": 5
}
