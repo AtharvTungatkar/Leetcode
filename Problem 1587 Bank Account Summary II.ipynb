{
 "cells": [
  {
   "cell_type": "markdown",
   "id": "94754722",
   "metadata": {},
   "source": [
    "Problem 1587 Bank Account Summary II"
   ]
  },
  {
   "cell_type": "markdown",
   "id": "fcda4755",
   "metadata": {},
   "source": [
    "SQL Schema\n",
    "Pandas Schema\n",
    "Table: Users\n",
    "\n",
    "+--------------+---------+\n",
    "| Column Name  | Type    |\n",
    "+--------------+---------+\n",
    "| account      | int     |\n",
    "| name         | varchar |\n",
    "+--------------+---------+\n",
    "account is the primary key (column with unique values) for this table.\n",
    "Each row of this table contains the account number of each user in the bank.\n",
    "There will be no two users having the same name in the table.\n",
    " \n",
    "\n",
    "Table: Transactions\n",
    "\n",
    "+---------------+---------+\n",
    "| Column Name   | Type    |\n",
    "+---------------+---------+\n",
    "| trans_id      | int     |\n",
    "| account       | int     |\n",
    "| amount        | int     |\n",
    "| transacted_on | date    |\n",
    "+---------------+---------+\n",
    "trans_id is the primary key (column with unique values) for this table.\n",
    "Each row of this table contains all changes made to all accounts.\n",
    "amount is positive if the user received money and negative if they transferred money.\n",
    "All accounts start with a balance of 0.\n",
    " \n",
    "\n",
    "Write a solution to report the name and balance of users with a balance higher than 10000. The balance of an account is equal to the sum of the amounts of all transactions involving that account.\n",
    "\n",
    "Return the result table in any order.\n",
    "\n",
    "The result format is in the following example.\n",
    "\n",
    " \n",
    "\n",
    "Example 1:\n",
    "\n",
    "Input: \n",
    "Users table:\n",
    "+------------+--------------+\n",
    "| account    | name         |\n",
    "+------------+--------------+\n",
    "| 900001     | Alice        |\n",
    "| 900002     | Bob          |\n",
    "| 900003     | Charlie      |\n",
    "+------------+--------------+\n",
    "Transactions table:\n",
    "+------------+------------+------------+---------------+\n",
    "| trans_id   | account    | amount     | transacted_on |\n",
    "+------------+------------+------------+---------------+\n",
    "| 1          | 900001     | 7000       |  2020-08-01   |\n",
    "| 2          | 900001     | 7000       |  2020-09-01   |\n",
    "| 3          | 900001     | -3000      |  2020-09-02   |\n",
    "| 4          | 900002     | 1000       |  2020-09-12   |\n",
    "| 5          | 900003     | 6000       |  2020-08-07   |\n",
    "| 6          | 900003     | 6000       |  2020-09-07   |\n",
    "| 7          | 900003     | -4000      |  2020-09-11   |\n",
    "+------------+------------+------------+---------------+\n",
    "Output: \n",
    "+------------+------------+\n",
    "| name       | balance    |\n",
    "+------------+------------+\n",
    "| Alice      | 11000      |\n",
    "+------------+------------+\n",
    "Explanation: "
   ]
  },
  {
   "cell_type": "markdown",
   "id": "872b4221",
   "metadata": {},
   "source": [
    "Answer:"
   ]
  },
  {
   "cell_type": "markdown",
   "id": "fcc05f79",
   "metadata": {},
   "source": [
    "TO solve this problem we need the transactions table to perform our analysis and then at last we merge the users table to get names.\n",
    "First we use the groupby function on transactions table to group the table on account, then we use the agg function to perform sum of the amount column.\n",
    "Then I merged the users table to get the names and renamed the columns.\n",
    "Last I returned the rows which have BALANCE>10000 and filtered the required columns."
   ]
  },
  {
   "cell_type": "code",
   "execution_count": 1,
   "id": "c852f187",
   "metadata": {},
   "outputs": [],
   "source": [
    "import pandas as pd\n",
    "def account_summary(users: pd.DataFrame, transactions: pd.DataFrame) -> pd.DataFrame:\n",
    "    df=transactions.groupby(by='account',as_index=False).agg(\n",
    "        {'amount':'sum'}\n",
    "    )\n",
    "    merged=df.merge(users,on='account')\n",
    "    merged.rename(columns={'amount':'BALANCE','name':'NAME'},inplace=True)\n",
    "    return merged[merged['BALANCE']>10000][['NAME','BALANCE']]"
   ]
  },
  {
   "cell_type": "code",
   "execution_count": 3,
   "id": "27940b61",
   "metadata": {},
   "outputs": [
    {
     "name": "stdout",
     "output_type": "stream",
     "text": [
      "True\n"
     ]
    }
   ],
   "source": [
    "#Test case\n",
    "\n",
    "users=pd.DataFrame({'account':['900001','900002','900003'],\n",
    "                    'name':['Alice','Bob','Charlie']})\n",
    "\n",
    "transactions=pd.DataFrame({'transaction_id':[1,2,3,4,5,6,7],\n",
    "                           'account':['900001','900001','9000001','900002','900003','900003','900003'],\n",
    "                          'amount':[7000,7000,-3000,1000,6000,6000,-4000],\n",
    "                          'transacted_on':['2020-08-01','2020-09-01','2020-09-02','2020-09-12','2020-08-07','2020-09-07','2020-09-11']})\n",
    "\n",
    "expected_output=pd.DataFrame({'NAME':['Alice'],\n",
    "                              'BALANCE':[14000]})\n",
    "\n",
    "print(account_summary(users, transactions).equals(expected_output))  # Should print True"
   ]
  }
 ],
 "metadata": {
  "kernelspec": {
   "display_name": "base",
   "language": "python",
   "name": "python3"
  },
  "language_info": {
   "codemirror_mode": {
    "name": "ipython",
    "version": 3
   },
   "file_extension": ".py",
   "mimetype": "text/x-python",
   "name": "python",
   "nbconvert_exporter": "python",
   "pygments_lexer": "ipython3",
   "version": "3.12.4"
  }
 },
 "nbformat": 4,
 "nbformat_minor": 5
}
