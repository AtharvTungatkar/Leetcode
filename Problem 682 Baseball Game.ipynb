{
 "cells": [
  {
   "cell_type": "markdown",
   "id": "b6037a5d",
   "metadata": {},
   "source": [
    "Problem 682 Baseball Game"
   ]
  },
  {
   "cell_type": "markdown",
   "id": "a297df6b",
   "metadata": {},
   "source": [
    "You are keeping the scores for a baseball game with strange rules. At the beginning of the game, you start with an empty record.\n",
    "\n",
    "You are given a list of strings operations, where operations[i] is the ith operation you must apply to the record and is one of the following:\n",
    "\n",
    "An integer x.\n",
    "Record a new score of x.\n",
    "'+'.\n",
    "Record a new score that is the sum of the previous two scores.\n",
    "'D'.\n",
    "Record a new score that is the double of the previous score.\n",
    "'C'.\n",
    "Invalidate the previous score, removing it from the record.\n",
    "Return the sum of all the scores on the record after applying all the operations.\n",
    "\n",
    "The test cases are generated such that the answer and all intermediate calculations fit in a 32-bit integer and that all operations are valid.\n",
    "\n",
    " \n",
    "\n",
    "Example 1:\n",
    "\n",
    "Input: ops = [\"5\",\"2\",\"C\",\"D\",\"+\"]\n",
    "Output: 30\n",
    "Explanation:\n",
    "\"5\" - Add 5 to the record, record is now [5].\n",
    "\"2\" - Add 2 to the record, record is now [5, 2].\n",
    "\"C\" - Invalidate and remove the previous score, record is now [5].\n",
    "\"D\" - Add 2 * 5 = 10 to the record, record is now [5, 10].\n",
    "\"+\" - Add 5 + 10 = 15 to the record, record is now [5, 10, 15].\n",
    "The total sum is 5 + 10 + 15 = 30.\n",
    "Example 2:\n",
    "\n",
    "Input: ops = [\"5\",\"-2\",\"4\",\"C\",\"D\",\"9\",\"+\",\"+\"]\n",
    "Output: 27\n",
    "Explanation:\n",
    "\"5\" - Add 5 to the record, record is now [5].\n",
    "\"-2\" - Add -2 to the record, record is now [5, -2].\n",
    "\"4\" - Add 4 to the record, record is now [5, -2, 4].\n",
    "\"C\" - Invalidate and remove the previous score, record is now [5, -2].\n",
    "\"D\" - Add 2 * -2 = -4 to the record, record is now [5, -2, -4].\n",
    "\"9\" - Add 9 to the record, record is now [5, -2, -4, 9].\n",
    "\"+\" - Add -4 + 9 = 5 to the record, record is now [5, -2, -4, 9, 5].\n",
    "\"+\" - Add 9 + 5 = 14 to the record, record is now [5, -2, -4, 9, 5, 14].\n",
    "The total sum is 5 + -2 + -4 + 9 + 5 + 14 = 27.\n",
    "Example 3:\n",
    "\n",
    "Input: ops = [\"1\",\"C\"]\n",
    "Output: 0\n",
    "Explanation:\n",
    "\"1\" - Add 1 to the record, record is now [1].\n",
    "\"C\" - Invalidate and remove the previous score, record is now [].\n",
    "Since the record is empty, the total sum is 0.\n",
    " \n",
    "\n",
    "Constraints:\n",
    "\n",
    "1 <= operations.length <= 1000\n",
    "operations[i] is \"C\", \"D\", \"+\", or a string representing an integer in the range [-3 * 104, 3 * 104].\n",
    "For operation \"+\", there will always be at least two previous scores on the record.\n",
    "For operations \"C\" and \"D\", there will always be at least one previous score on the record."
   ]
  },
  {
   "cell_type": "markdown",
   "id": "eaae5477",
   "metadata": {},
   "source": [
    "Answer:"
   ]
  },
  {
   "cell_type": "markdown",
   "id": "f75cc72c",
   "metadata": {},
   "source": [
    "The problem is solved using a loop with if elif statements and on a empty list.\n",
    "The only catch here is that we iterate over the length of the input list in function and append on the new list that we created.\n",
    "Everytime either \"C\",\"D' or \"+\" apperar in the input list the operation is performed ased on the new list and the new list is updated."
   ]
  },
  {
   "cell_type": "code",
   "execution_count": 2,
   "id": "9122dd48",
   "metadata": {},
   "outputs": [],
   "source": [
    "def calPoints(operations: list[str]) -> int:\n",
    "        record=[]\n",
    "        for i in range(len(operations)):\n",
    "            if operations[i]!=\"C\" and operations[i]!=\"D\" and operations[i]!=\"+\":\n",
    "                record.append(int(operations[i]))\n",
    "            elif operations[i]==\"C\":\n",
    "                del record[-1]\n",
    "            elif operations[i]==\"D\":\n",
    "                record.append(2*record[-1])\n",
    "            elif operations[i]==\"+\":\n",
    "                record.append(record[-1]+record[-2])\n",
    "        return sum(record)"
   ]
  },
  {
   "cell_type": "code",
   "execution_count": 3,
   "id": "e54fbf56",
   "metadata": {},
   "outputs": [
    {
     "name": "stdout",
     "output_type": "stream",
     "text": [
      "True\n",
      "True\n",
      "True\n"
     ]
    }
   ],
   "source": [
    "# Test Cases\n",
    "\n",
    "c1=[\"5\",\"2\",\"C\",\"D\",\"+\"]\n",
    "c2=[\"5\",\"-2\",\"4\",\"C\",\"D\",\"9\",\"+\",\"+\"]\n",
    "c3=[\"1\",\"C\"]\n",
    "\n",
    "expected1=30\n",
    "expected2=27   \n",
    "expected3=0\n",
    "\n",
    "print(calPoints(c1) == expected1)  # True\n",
    "print(calPoints(c2) == expected2)  # True\n",
    "print(calPoints(c3) == expected3)  # True"
   ]
  }
 ],
 "metadata": {
  "kernelspec": {
   "display_name": "base",
   "language": "python",
   "name": "python3"
  },
  "language_info": {
   "codemirror_mode": {
    "name": "ipython",
    "version": 3
   },
   "file_extension": ".py",
   "mimetype": "text/x-python",
   "name": "python",
   "nbconvert_exporter": "python",
   "pygments_lexer": "ipython3",
   "version": "3.12.4"
  }
 },
 "nbformat": 4,
 "nbformat_minor": 5
}
