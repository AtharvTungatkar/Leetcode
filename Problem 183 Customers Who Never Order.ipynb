{
 "cells": [
  {
   "cell_type": "markdown",
   "id": "45536ebb",
   "metadata": {},
   "source": [
    "Problem 183 Customers Who Never Order"
   ]
  },
  {
   "cell_type": "markdown",
   "id": "4ecc77d6",
   "metadata": {},
   "source": [
    "SQL Schema\n",
    "Pandas Schema\n",
    "Table: Customers\n",
    "\n",
    "+-------------+---------+\n",
    "| Column Name | Type    |\n",
    "+-------------+---------+\n",
    "| id          | int     |\n",
    "| name        | varchar |\n",
    "+-------------+---------+\n",
    "id is the primary key (column with unique values) for this table.\n",
    "Each row of this table indicates the ID and name of a customer.\n",
    " \n",
    "\n",
    "Table: Orders\n",
    "\n",
    "+-------------+------+\n",
    "| Column Name | Type |\n",
    "+-------------+------+\n",
    "| id          | int  |\n",
    "| customerId  | int  |\n",
    "+-------------+------+\n",
    "id is the primary key (column with unique values) for this table.\n",
    "customerId is a foreign key (reference columns) of the ID from the Customers table.\n",
    "Each row of this table indicates the ID of an order and the ID of the customer who ordered it.\n",
    " \n",
    "\n",
    "Write a solution to find all customers who never order anything.\n",
    "\n",
    "Return the result table in any order.\n",
    "\n",
    "The result format is in the following example.\n",
    "\n",
    " \n",
    "\n",
    "Example 1:\n",
    "\n",
    "Input: \n",
    "Customers table:\n",
    "+----+-------+\n",
    "| id | name  |\n",
    "+----+-------+\n",
    "| 1  | Joe   |\n",
    "| 2  | Henry |\n",
    "| 3  | Sam   |\n",
    "| 4  | Max   |\n",
    "+----+-------+\n",
    "Orders table:\n",
    "+----+------------+\n",
    "| id | customerId |\n",
    "+----+------------+\n",
    "| 1  | 3          |\n",
    "| 2  | 1          |\n",
    "+----+------------+\n",
    "Output: \n",
    "+-----------+\n",
    "| Customers |\n",
    "+-----------+\n",
    "| Henry     |\n",
    "| Max       |\n",
    "+-----------+"
   ]
  },
  {
   "cell_type": "markdown",
   "id": "e5fcce38",
   "metadata": {},
   "source": [
    "Answer:"
   ]
  },
  {
   "cell_type": "markdown",
   "id": "90f2fd1e",
   "metadata": {},
   "source": [
    "This is the problem that can be solved using SQL as it needs to work with multiple tables. I solved it using pandas.\n",
    "\n",
    "The approach was to use the isin function to check whether the customer id in orders table are there in the customer table and take the negation of it hence we get the list of people that are not in the orders table.\n",
    "Then we extract the 'name' column and rename it as Customers."
   ]
  },
  {
   "cell_type": "code",
   "execution_count": 1,
   "id": "9156e8db",
   "metadata": {},
   "outputs": [],
   "source": [
    "import pandas as pd\n",
    "def find_customers(customers: pd.DataFrame, orders: pd.DataFrame) -> pd.DataFrame:\n",
    "    df=customers[~customers['id'].isin(orders['customerId'])][['name']]\n",
    "    df.columns=['Customers']\n",
    "    return df"
   ]
  },
  {
   "cell_type": "code",
   "execution_count": 4,
   "id": "be8c7d8a",
   "metadata": {},
   "outputs": [
    {
     "name": "stdout",
     "output_type": "stream",
     "text": [
      "  Customers\n",
      "1     Henry\n",
      "3       Max\n"
     ]
    }
   ],
   "source": [
    "# Test Cases\n",
    "c1=pd.DataFrame({'id':[1,2,3,4],'name':['Joe','Henry','Sam','Max']})\n",
    "o1=pd.DataFrame({'id':[1,2],'customerId':[3,1]})\n",
    "                 \n",
    "print(find_customers(c1,o1))  # Expected: ['Henry','Max']})"
   ]
  }
 ],
 "metadata": {
  "kernelspec": {
   "display_name": "base",
   "language": "python",
   "name": "python3"
  },
  "language_info": {
   "codemirror_mode": {
    "name": "ipython",
    "version": 3
   },
   "file_extension": ".py",
   "mimetype": "text/x-python",
   "name": "python",
   "nbconvert_exporter": "python",
   "pygments_lexer": "ipython3",
   "version": "3.12.4"
  }
 },
 "nbformat": 4,
 "nbformat_minor": 5
}
